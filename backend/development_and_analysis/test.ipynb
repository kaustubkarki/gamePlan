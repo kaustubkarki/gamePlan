{
 "cells": [
  {
   "cell_type": "code",
   "execution_count": null,
   "metadata": {},
   "outputs": [],
   "source": [
    "!pip install roboflow\n",
    "\n",
    "from roboflow import Roboflow\n",
    "rf = Roboflow(api_key=\"5ADzvGdu4blAVrKyRPYy\")\n",
    "project = rf.workspace(\"roboflow-jvuqo\").project(\"football-players-detection-3zvbc\")\n",
    "version = project.version(1)\n",
    "dataset = version.download(\"yolov8\")\n",
    "                "
   ]
  },
  {
   "cell_type": "code",
   "execution_count": null,
   "metadata": {},
   "outputs": [],
   "source": [
    "!pip install albumentations opencv-python numpy\n"
   ]
  },
  {
   "cell_type": "code",
   "execution_count": null,
   "metadata": {},
   "outputs": [],
   "source": [
    "import cv2\n",
    "import os\n",
    "import albumentations as A\n",
    "import numpy as np\n",
    "\n",
    "# Define input and output paths\n",
    "input_images = r\"D:\\project_test\\development_and_analysis\\football-players-detection-1\\train\\images\"\n",
    "input_labels = r\"D:\\project_test\\development_and_analysis\\football-players-detection-1\\train\\labels\"\n",
    "\n",
    "output_images = r\"D:\\project_test\\development_and_analysis\\football-players-detection-1\\train\\augmented_images\"\n",
    "output_labels = r\"D:\\project_test\\development_and_analysis\\football-players-detection-1\\train\\augmented_labels\"\n",
    "\n",
    "# Create output folders if they don’t exist\n",
    "os.makedirs(output_images, exist_ok=True)\n",
    "os.makedirs(output_labels, exist_ok=True)\n",
    "\n",
    "# Define augmentation pipeline (applies to both images & bounding boxes)\n",
    "augmentations = A.Compose([\n",
    "    A.RandomRotate90(p=0.5),  # Rotate 90° randomly\n",
    "    A.HorizontalFlip(p=0.5),  # Flip horizontally\n",
    "    A.VerticalFlip(p=0.2),  # Flip vertically\n",
    "    A.RandomBrightnessContrast(p=0.3),  # Adjust brightness/contrast to highlight the ball\n",
    "    A.MotionBlur(blur_limit=3, p=0.2),  # Simulate motion blur\n",
    "    A.GaussianBlur(blur_limit=3, p=0.2),  # Slight blur to account for low-quality frames\n",
    "    A.RandomScale(scale_limit=0.3, p=0.5),  # Increase size of small objects\n",
    "    A.RandomResizedCrop((640, 640), scale=(0.6, 1.0), ratio=(0.75, 1.33), p=0.3),  # ✅ Fixed RandomResizedCrop\n",
    "    A.CLAHE(clip_limit=2.0, tile_grid_size=(8, 8), p=0.2),  # Improves contrast for small objects\n",
    "    A.ToGray(p=0.1)  # Convert some images to grayscale (simulates different lighting conditions)\n",
    "], bbox_params=A.BboxParams(format='yolo', label_fields=['class_labels']))\n",
    "\n",
    "# Loop through each image and its corresponding label\n",
    "for img_file in os.listdir(input_images):\n",
    "    if img_file.endswith((\".jpg\", \".png\", \".jpeg\")):\n",
    "        # Load image\n",
    "        img_path = os.path.join(input_images, img_file)\n",
    "        image = cv2.imread(img_path)\n",
    "\n",
    "        # Load YOLO label\n",
    "        label_path = os.path.join(input_labels, img_file.replace(\".jpg\", \".txt\").replace(\".png\", \".txt\"))\n",
    "        if not os.path.exists(label_path):\n",
    "            continue  # Skip images without labels\n",
    "\n",
    "        with open(label_path, \"r\") as f:\n",
    "            lines = f.readlines()\n",
    "\n",
    "        # Parse bounding boxes\n",
    "        bboxes = []\n",
    "        class_labels = []\n",
    "        for line in lines:\n",
    "            parts = line.strip().split()\n",
    "            class_id = int(parts[0])\n",
    "            bbox = list(map(float, parts[1:]))  # X_center, Y_center, Width, Height\n",
    "            bboxes.append(bbox)\n",
    "            class_labels.append(class_id)\n",
    "\n",
    "        # Apply augmentation\n",
    "        augmented = augmentations(image=image, bboxes=bboxes, class_labels=class_labels)\n",
    "\n",
    "        # Save augmented image\n",
    "        aug_img_path = os.path.join(output_images, f\"aug_{img_file}\")\n",
    "        cv2.imwrite(aug_img_path, augmented[\"image\"])\n",
    "\n",
    "        # Save augmented labels\n",
    "        aug_label_path = os.path.join(output_labels, f\"aug_{img_file.replace('.jpg', '.txt').replace('.png', '.txt')}\")\n",
    "        with open(aug_label_path, \"w\") as f:\n",
    "            for bbox, cls in zip(augmented[\"bboxes\"], augmented[\"class_labels\"]):\n",
    "                f.write(f\"{cls} \" + \" \".join(map(str, bbox)) + \"\\n\")\n",
    "\n",
    "print(\"✅ Data augmentation with bounding boxes completed!\")\n"
   ]
  },
  {
   "cell_type": "code",
   "execution_count": null,
   "metadata": {},
   "outputs": [],
   "source": [
    "!pip install ultralytics\n",
    "\n"
   ]
  }
 ],
 "metadata": {
  "kernelspec": {
   "display_name": "Python 3",
   "language": "python",
   "name": "python3"
  },
  "language_info": {
   "codemirror_mode": {
    "name": "ipython",
    "version": 3
   },
   "file_extension": ".py",
   "mimetype": "text/x-python",
   "name": "python",
   "nbconvert_exporter": "python",
   "pygments_lexer": "ipython3",
   "version": "3.12.8"
  }
 },
 "nbformat": 4,
 "nbformat_minor": 2
}
